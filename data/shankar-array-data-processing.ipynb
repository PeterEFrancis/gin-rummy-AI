{
 "cells": [
  {
   "cell_type": "code",
   "execution_count": 1,
   "metadata": {},
   "outputs": [],
   "source": [
    "from tensorflow.keras.models import Model\n",
    "from tensorflow.keras.models import Sequential\n",
    "from tensorflow.keras.layers import BatchNormalization\n",
    "from tensorflow.keras.layers import Conv2D\n",
    "from tensorflow.keras.layers import MaxPooling2D\n",
    "from tensorflow.keras.layers import Activation\n",
    "from tensorflow.keras.layers import Dropout\n",
    "from tensorflow.keras.layers import Dense\n",
    "from tensorflow.keras.layers import Flatten\n",
    "from tensorflow.keras.layers import Input\n",
    "from tensorflow.keras.optimizers import Adam\n",
    "from tensorflow.keras.layers import concatenate\n",
    "from sklearn.preprocessing import LabelBinarizer\n",
    "from sklearn.preprocessing import MinMaxScaler\n",
    "from sklearn.model_selection import train_test_split\n",
    "import pandas as pd\n",
    "import numpy as np\n",
    "import glob\n",
    "import cv2\n",
    "import locale\n",
    "import os"
   ]
  },
  {
   "cell_type": "markdown",
   "metadata": {},
   "source": [
    "### Load in Shankar array Data"
   ]
  },
  {
   "cell_type": "code",
   "execution_count": 46,
   "metadata": {},
   "outputs": [
    {
     "data": {
      "text/plain": [
       "array([[[ 0,  0,  0, ...,  0, -2,  0],\n",
       "        [ 0,  0, -2, ..., -2,  0, -2],\n",
       "        [ 0,  0,  0, ...,  0,  0,  0],\n",
       "        [ 0,  0,  0, ...,  0,  0,  0]],\n",
       "\n",
       "       [[ 0, -2,  0, ..., -1,  0,  0],\n",
       "        [ 0,  0,  0, ...,  0,  0,  0],\n",
       "        [ 0,  0,  0, ...,  0,  0, -2],\n",
       "        [ 0,  0,  0, ..., -2,  0,  0]],\n",
       "\n",
       "       [[ 0,  0,  0, ...,  1, -2,  0],\n",
       "        [ 0,  0, -2, ..., -2,  0, -2],\n",
       "        [ 0,  0,  0, ...,  0,  0,  0],\n",
       "        [ 0,  0,  0, ...,  0,  0,  0]],\n",
       "\n",
       "       ...,\n",
       "\n",
       "       [[ 0,  0, -2, ..., -1, -1, -1],\n",
       "        [ 0, -2, -1, ..., -1, -1, -1],\n",
       "        [ 0,  0, -2, ..., -1, -1, -1],\n",
       "        [ 0,  0,  0, ..., -1, -1, -1]],\n",
       "\n",
       "       [[ 0,  0,  0, ..., -1, -1, -1],\n",
       "        [-2, -1, -2, ..., -1, -1, -1],\n",
       "        [-2, -2,  1, ..., -1, -1, -1],\n",
       "        [-1, -2, -2, ..., -1, -1, -1]],\n",
       "\n",
       "       [[ 0,  0, -2, ..., -1, -1, -1],\n",
       "        [ 0, -2, -1, ..., -1, -1, -1],\n",
       "        [ 0,  0, -2, ..., -1, -1, -1],\n",
       "        [ 0,  0,  0, ..., -1, -1, -1]]])"
      ]
     },
     "execution_count": 46,
     "metadata": {},
     "output_type": "execute_result"
    }
   ],
   "source": [
    "shankarrs = []\n",
    "\n",
    "with open('data-sa.csv') as f:\n",
    "    for line in f.readlines():\n",
    "        shankarrs.append(eval(line))\n",
    "\n",
    "shankarrs = np.array(shankarrs)\n",
    "shankarrs.tofile('shankarrs-np.dat')\n",
    "shankarrs"
   ]
  },
  {
   "cell_type": "markdown",
   "metadata": {},
   "source": [
    "### Load in player hand data"
   ]
  },
  {
   "cell_type": "code",
   "execution_count": 48,
   "metadata": {},
   "outputs": [
    {
     "data": {
      "text/plain": [
       "array([[0, 0, 0, ..., 0, 0, 0],\n",
       "       [0, 1, 0, ..., 1, 0, 0],\n",
       "       [0, 0, 0, ..., 0, 0, 0],\n",
       "       ...,\n",
       "       [0, 0, 1, ..., 0, 0, 0],\n",
       "       [0, 0, 0, ..., 0, 0, 0],\n",
       "       [0, 0, 1, ..., 0, 0, 0]])"
      ]
     },
     "execution_count": 48,
     "metadata": {},
     "output_type": "execute_result"
    }
   ],
   "source": [
    "player_hands = []\n",
    "\n",
    "with open('data-ph.csv') as f:\n",
    "    for line in f.readlines():\n",
    "        player_hands.append(eval(line))\n",
    "\n",
    "player_hands = np.array([arr.flatten() for arr in np.array(player_hands)])\n",
    "player_hands"
   ]
  },
  {
   "cell_type": "code",
   "execution_count": 49,
   "metadata": {},
   "outputs": [],
   "source": [
    "player_hands.tofile('player-hands-np.dat')"
   ]
  },
  {
   "cell_type": "markdown",
   "metadata": {},
   "source": [
    "### split train and test data"
   ]
  },
  {
   "cell_type": "code",
   "execution_count": 50,
   "metadata": {},
   "outputs": [],
   "source": [
    "trainX, testX, trainY, testY = train_test_split(shankarrs, player_hands, test_size=0.25, random_state=42)"
   ]
  },
  {
   "cell_type": "markdown",
   "metadata": {},
   "source": [
    "### Create CNN model"
   ]
  },
  {
   "cell_type": "code",
   "execution_count": 51,
   "metadata": {},
   "outputs": [],
   "source": [
    "height = 4\n",
    "width = 13\n",
    "depth = 1\n",
    "filters = (52,52)\n",
    "\n",
    "inputShape = (height, width, depth)\n",
    "chanDim = -1\n",
    "\n",
    "inputs = Input(shape=inputShape)\n",
    "\n",
    "for (i, f) in enumerate(filters):\n",
    "    # if this is the first CONV layer then set the input appropriately\n",
    "    if i == 0:\n",
    "        x = inputs\n",
    "\n",
    "    # CONV => RELU => BN => POOL\n",
    "    x = Conv2D(f, (3, 3), padding=\"same\")(x)\n",
    "    x = Activation(\"relu\")(x)\n",
    "    x = BatchNormalization(axis=chanDim)(x)\n",
    "    x = MaxPooling2D(pool_size=(2, 2))(x)\n",
    "\n",
    "x = Flatten()(x)\n",
    "x = Dense(52)(x)\n",
    "x = Activation(\"relu\")(x)\n",
    "x = BatchNormalization(axis=chanDim)(x)\n",
    "x = Dropout(0.5)(x)\n",
    "\n",
    "cnn = Model(inputs, x)"
   ]
  },
  {
   "cell_type": "markdown",
   "metadata": {},
   "source": [
    "### Compile"
   ]
  },
  {
   "cell_type": "code",
   "execution_count": 52,
   "metadata": {},
   "outputs": [],
   "source": [
    "opt = Adam(lr=1e-3, decay=1e-3 / 200)\n",
    "cnn.compile(loss=\"mean_absolute_percentage_error\", optimizer=opt)"
   ]
  },
  {
   "cell_type": "markdown",
   "metadata": {},
   "source": [
    "### Train"
   ]
  },
  {
   "cell_type": "code",
   "execution_count": null,
   "metadata": {
    "scrolled": true
   },
   "outputs": [
    {
     "name": "stdout",
     "output_type": "stream",
     "text": [
      "Epoch 1/200\n",
      "76925/76925 [==============================] - 434s 6ms/step - loss: 1573957.1250 - val_loss: 93710.6719\n",
      "Epoch 2/200\n",
      "57285/76925 [=====================>........] - ETA: 1:43 - loss: 77598.3906"
     ]
    }
   ],
   "source": [
    "cnn.fit(\n",
    "    trainX, trainY,\n",
    "    validation_data=(testX, testY),\n",
    "    epochs=200, batch_size=25)"
   ]
  },
  {
   "cell_type": "markdown",
   "metadata": {},
   "source": [
    "### Testing"
   ]
  },
  {
   "cell_type": "code",
   "execution_count": 43,
   "metadata": {},
   "outputs": [
    {
     "name": "stdout",
     "output_type": "stream",
     "text": [
      "[[ 2.6450689e-05 -1.6463759e-06  4.5798766e-05 -4.3367007e-05\n",
      "  -5.7580437e-06 -1.6109745e-05 -2.9030840e-05  3.5229328e-05\n",
      "   1.2055444e-05 -4.7313679e-06 -1.3495663e-05 -6.4264939e-05\n",
      "   7.0859242e-05  7.4503405e-06 -9.7842712e-06 -1.5950505e-05\n",
      "   8.2238075e-06  5.2024548e-05  1.7929604e-05  9.4108882e-06\n",
      "   4.2935826e-06 -2.0340838e-05  9.8186902e-05 -4.1662410e-05\n",
      "   1.3393825e-05 -7.4788363e-06  4.5096887e-05 -2.1559670e-05\n",
      "   4.1357773e-05  2.8861545e-05  5.2784839e-05  4.3548749e-05\n",
      "  -1.8538874e-05 -2.3668874e-05 -9.6970098e-07 -4.2419146e-05\n",
      "   1.5787009e-08 -2.4660367e-05  1.8387942e-05 -6.0266107e-06\n",
      "   2.0064545e-05 -1.6537069e-07  3.3888711e-05 -2.3833363e-05\n",
      "  -1.4311710e-05  5.9948688e-05  2.1980055e-05  7.8635148e-06\n",
      "  -2.5515983e-05 -1.7158440e-05 -2.7229140e-05 -2.2183141e-05]]\n"
     ]
    }
   ],
   "source": [
    "print(cnn.predict(np.array([testX[0]])))"
   ]
  },
  {
   "cell_type": "code",
   "execution_count": 45,
   "metadata": {},
   "outputs": [
    {
     "name": "stdout",
     "output_type": "stream",
     "text": [
      "[0 1 0 0 0 0 0 0 0 0 1 0 0 1 0 0 0 0 0 0 0 0 0 1 0 0 0 1 0 0 0 0 0 0 0 0 0\n",
      " 0 0 1 0 0 1 0 1 0 0 0 0 1 1 0]\n"
     ]
    }
   ],
   "source": [
    "print(testY[0])"
   ]
  },
  {
   "cell_type": "code",
   "execution_count": 49,
   "metadata": {},
   "outputs": [],
   "source": [
    "model.save('sankarr.h5')"
   ]
  },
  {
   "cell_type": "code",
   "execution_count": null,
   "metadata": {},
   "outputs": [],
   "source": []
  }
 ],
 "metadata": {
  "kernelspec": {
   "display_name": "Python 3",
   "language": "python",
   "name": "python3"
  },
  "language_info": {
   "codemirror_mode": {
    "name": "ipython",
    "version": 3
   },
   "file_extension": ".py",
   "mimetype": "text/x-python",
   "name": "python",
   "nbconvert_exporter": "python",
   "pygments_lexer": "ipython3",
   "version": "3.7.7"
  }
 },
 "nbformat": 4,
 "nbformat_minor": 4
}
