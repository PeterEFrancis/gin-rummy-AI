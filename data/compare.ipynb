{
 "cells": [
  {
   "cell_type": "markdown",
   "metadata": {},
   "source": [
    "# compare 2 CSV files"
   ]
  },
  {
   "cell_type": "code",
   "execution_count": 47,
   "metadata": {},
   "outputs": [],
   "source": [
    "import numpy as np"
   ]
  },
  {
   "cell_type": "code",
   "execution_count": 48,
   "metadata": {},
   "outputs": [],
   "source": [
    "data_a = np.genfromtxt(\"test-a.csv\",delimiter=',',dtype=None, names=True)\n",
    "data_b = np.genfromtxt(\"test-b.csv\",delimiter=',',dtype=None, names=True)"
   ]
  },
  {
   "cell_type": "code",
   "execution_count": 49,
   "metadata": {},
   "outputs": [
    {
     "name": "stdout",
     "output_type": "stream",
     "text": [
      "line 3:   2  !=  3.0\n",
      "---------------------------------------------------------------------------------------------------- \n",
      "\n",
      "line 89:   5  !=  6.0\n",
      "---------------------------------------------------------------------------------------------------- \n",
      "\n",
      "line 126:   3  !=  4.0\n",
      "---------------------------------------------------------------------------------------------------- \n",
      "\n",
      "line 178:   5  !=  6.0\n",
      "---------------------------------------------------------------------------------------------------- \n",
      "\n",
      "line 233:   6  !=  7.0\n",
      "---------------------------------------------------------------------------------------------------- \n",
      "\n"
     ]
    }
   ],
   "source": [
    "for i in range(len(data_a)):\n",
    "    if data_a['current_player_num_hit_cards'][i] != data_b['current_player_num_hit_cards'][i]:\n",
    "        print(f\"line {i + 2}:  \", data_a['current_player_num_hit_cards'][i], \" != \", data_b['current_player_num_hit_cards'][i])\n",
    "        print(\"--\" * 50, \"\\n\")"
   ]
  },
  {
   "cell_type": "code",
   "execution_count": null,
   "metadata": {},
   "outputs": [],
   "source": []
  }
 ],
 "metadata": {
  "kernelspec": {
   "display_name": "Python 3",
   "language": "python",
   "name": "python3"
  },
  "language_info": {
   "codemirror_mode": {
    "name": "ipython",
    "version": 3
   },
   "file_extension": ".py",
   "mimetype": "text/x-python",
   "name": "python",
   "nbconvert_exporter": "python",
   "pygments_lexer": "ipython3",
   "version": "3.7.7"
  }
 },
 "nbformat": 4,
 "nbformat_minor": 4
}
