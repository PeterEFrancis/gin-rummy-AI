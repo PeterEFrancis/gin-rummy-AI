{
 "cells": [
  {
   "cell_type": "code",
   "execution_count": 5,
   "metadata": {},
   "outputs": [],
   "source": [
    "import itertools as it\n",
    "from functools import lru_cache\n",
    "import random"
   ]
  },
  {
   "cell_type": "code",
   "execution_count": 52,
   "metadata": {},
   "outputs": [],
   "source": [
    "def perms(r):\n",
    "    perms = []\n",
    "    for c in it.permutations(range(r), r):\n",
    "        if c[::-1] not in perms:\n",
    "            perms.append(c)\n",
    "    return perms\n",
    "\n",
    "def is_a_sublist(tup1, tup2):\n",
    "    for offset in range(len(tup2) - len(tup1) + 1):       \n",
    "        is_sublist = True\n",
    "        for i in range(len(tup1)):\n",
    "            if tup1[i] != tup2[i + offset]:\n",
    "                is_sublist = False\n",
    "                break\n",
    "        if is_sublist:\n",
    "            return True\n",
    "    return False\n",
    "\n",
    "def is_ok(a, r):\n",
    "    for perm in perms(r):\n",
    "        if (not is_a_sublist(perm, a)) and (not is_a_sublist(perm[::-1], a)):\n",
    "            return False\n",
    "    return True"
   ]
  },
  {
   "cell_type": "code",
   "execution_count": 74,
   "metadata": {},
   "outputs": [],
   "source": [
    "def find_shortest(r):\n",
    "    i = r\n",
    "    while True:\n",
    "        found = False\n",
    "        for tup in filter(lambda x: all([j in x for j in range(r)]), it.product(range(r), repeat=i)):\n",
    "            if is_ok(tup, r):\n",
    "                found = True\n",
    "                print(tup)\n",
    "        if found:\n",
    "            break\n",
    "        i += 1"
   ]
  },
  {
   "cell_type": "code",
   "execution_count": 75,
   "metadata": {},
   "outputs": [
    {
     "name": "stdout",
     "output_type": "stream",
     "text": [
      "(0, 1)\n",
      "(1, 0)\n"
     ]
    }
   ],
   "source": [
    "find_shortest(2)"
   ]
  },
  {
   "cell_type": "code",
   "execution_count": 76,
   "metadata": {},
   "outputs": [
    {
     "name": "stdout",
     "output_type": "stream",
     "text": [
      "(0, 1, 2, 0, 1)\n",
      "(0, 2, 1, 0, 2)\n",
      "(1, 0, 2, 1, 0)\n",
      "(1, 2, 0, 1, 2)\n",
      "(2, 0, 1, 2, 0)\n",
      "(2, 1, 0, 2, 1)\n"
     ]
    }
   ],
   "source": [
    "find_shortest(3)"
   ]
  },
  {
   "cell_type": "code",
   "execution_count": null,
   "metadata": {},
   "outputs": [],
   "source": [
    "0, 1, 2, 5, [14-17], "
   ]
  },
  {
   "cell_type": "code",
   "execution_count": 45,
   "metadata": {},
   "outputs": [
    {
     "data": {
      "text/plain": [
       "True"
      ]
     },
     "execution_count": 45,
     "metadata": {},
     "output_type": "execute_result"
    }
   ],
   "source": [
    "is_ok([3,0,1,2,3,0,1,0,3,2,1,0,2,3,1,0,2,1,3,0,2,1],4)"
   ]
  },
  {
   "cell_type": "raw",
   "metadata": {},
   "source": [
    "3012301032102310213021\n",
    " ****       ********\n",
    "  ****     ********\n",
    "****      ****    ****\n",
    "   ****      ********\n",
    "\n",
    "301230102310213021\n",
    "******************\n",
    " ***** **********\n",
    "  ***   ********\n",
    "   *     *    *\n",
    "    \n",
    "301-2-301  102-3-102  021-3-021\n",
    "210-3-210  102-3-102  021-3-021\n",
    "\n",
    "21032102310213021\n",
    "\n"
   ]
  },
  {
   "cell_type": "code",
   "execution_count": 84,
   "metadata": {},
   "outputs": [
    {
     "data": {
      "text/plain": [
       "True"
      ]
     },
     "execution_count": 84,
     "metadata": {},
     "output_type": "execute_result"
    }
   ],
   "source": [
    "is_ok([2,1,0,3,2,1,0,2,3,1,0,2,1,3,0,2,1],4)"
   ]
  },
  {
   "cell_type": "code",
   "execution_count": 85,
   "metadata": {},
   "outputs": [
    {
     "data": {
      "text/plain": [
       "17"
      ]
     },
     "execution_count": 85,
     "metadata": {},
     "output_type": "execute_result"
    }
   ],
   "source": [
    "len([2,1,0,3,2,1,0,2,3,1,0,2,1,3,0,2,1])"
   ]
  },
  {
   "cell_type": "code",
   "execution_count": 142,
   "metadata": {},
   "outputs": [],
   "source": [
    "def get_offset(l,r,perm):\n",
    "    for offset in range(len(l) - r + 1):\n",
    "        here = True\n",
    "        for i in range(r):\n",
    "            if l[offset + i] != perm[i]:\n",
    "                here = False\n",
    "                break\n",
    "        if here:\n",
    "            return offset\n",
    "    return -1\n",
    "\n",
    "def get_heat(l, r):\n",
    "    if not is_ok(l, r):\n",
    "        print(\"not ok\")\n",
    "    else:\n",
    "        counts = [0 for _ in range(len(l))]\n",
    "        for perm in perms(r):\n",
    "            offset = max(get_offset(l,r,perm), get_offset(l,r,perm[::-1]))\n",
    "            for i in range(r):\n",
    "                counts[i + offset] += 1\n",
    "        print(\"\".join(str(el) for el in l))\n",
    "        while sum(counts) > 0:\n",
    "            print(\"\".join(\"*\" if el > 0 else \" \" for el in counts))\n",
    "            counts = [(el - 1) if el > 0 else el for el in counts]"
   ]
  },
  {
   "cell_type": "code",
   "execution_count": 157,
   "metadata": {},
   "outputs": [
    {
     "name": "stdout",
     "output_type": "stream",
     "text": [
      "01\n",
      "**\n"
     ]
    }
   ],
   "source": [
    "get_heat([0,1],2)"
   ]
  },
  {
   "cell_type": "code",
   "execution_count": 156,
   "metadata": {},
   "outputs": [
    {
     "name": "stdout",
     "output_type": "stream",
     "text": [
      "01201\n",
      "*****\n",
      " *** \n",
      "  *  \n"
     ]
    }
   ],
   "source": [
    "get_heat([0,1,2,0,1],3)"
   ]
  },
  {
   "cell_type": "code",
   "execution_count": 135,
   "metadata": {},
   "outputs": [
    {
     "name": "stdout",
     "output_type": "stream",
     "text": [
      "01230120312013201\n",
      "*****************\n",
      " *************** \n",
      "  *************  \n",
      "   *    *    *   \n"
     ]
    }
   ],
   "source": [
    "get_heat([0,1,2,3,0,1,2,0,3,1,2,0,1,3,2,0,1],4)"
   ]
  },
  {
   "cell_type": "raw",
   "metadata": {},
   "source": [
    "###############\n",
    "***************\n",
    " ************* \n",
    "  ***********  \n",
    "   *********"
   ]
  },
  {
   "cell_type": "code",
   "execution_count": 165,
   "metadata": {},
   "outputs": [
    {
     "data": {
      "text/plain": [
       "[(0, 1, 2, 3),\n",
       " (0, 1, 3, 2),\n",
       " (0, 2, 1, 3),\n",
       " (0, 2, 3, 1),\n",
       " (0, 3, 1, 2),\n",
       " (0, 3, 2, 1),\n",
       " (1, 0, 2, 3),\n",
       " (1, 0, 3, 2),\n",
       " (1, 2, 0, 3),\n",
       " (1, 3, 0, 2),\n",
       " (2, 0, 1, 3),\n",
       " (2, 1, 0, 3)]"
      ]
     },
     "execution_count": 165,
     "metadata": {},
     "output_type": "execute_result"
    }
   ],
   "source": [
    "perms(4)"
   ]
  },
  {
   "cell_type": "code",
   "execution_count": 163,
   "metadata": {},
   "outputs": [
    {
     "name": "stdout",
     "output_type": "stream",
     "text": [
      "01234012304123014230124301203412031420312403120431201342013240132041320143201\n",
      "*****************************************************************************\n",
      " *************************************************************************** \n",
      "  *************************************************************************  \n",
      "   *********************    *********************    *********************   \n",
      "    *     *     *     *      *     *     *     *      *     *     *     *    \n"
     ]
    }
   ],
   "source": [
    "get_heat([0,1,2,3,4,0,1,2,3,0,4,1,2,3,0,1,4,2,3,0,1,2,4,3,0,1,2,0,3,4,1,2,0,3,1,4,2,0,3,1,2,4,0,3,1,2,0,4,3,1,2,0,1,3,4,2,0,1,3,2,4,0,1,3,2,0,4,1,3,2,0,1,4,3,2,0,1], 5)"
   ]
  },
  {
   "cell_type": "code",
   "execution_count": 172,
   "metadata": {},
   "outputs": [
    {
     "name": "stdout",
     "output_type": "stream",
     "text": [
      "not ok\n"
     ]
    }
   ],
   "source": [
    "get_heat([int(e) for e in \"012345012341234051234023401523401340125340124012354012312304512304230415230413041253041204123504123412305412302301452301430142530142014235014231423051423042301542301301245301240124350124312430512430243015243014301254301201234501234123405123402340152340134012534012401235401231230451230423041523041304125304120412350412341230541230230145230143014253014201423501423142305142304230154230130124530124012435012431243051243024301524301430125430120123450123412340512340234015234013401253401240123540123123045123042304152304130412530412041235041234123054123023014523014301425301420142350142314230514230423015423013012453012401243501243124305124302430152430143012543012\"],6)"
   ]
  },
  {
   "cell_type": "raw",
   "metadata": {},
   "source": [
    "01\n",
    "\n",
    "01-2-01\n",
    "\n",
    "012-3-012  120-3-120  201-3-201\n",
    "\n",
    "0123-4-0123   1230-4-1230   2301-4-2301  3012-4-3012  1203-4-1203  2031-4-2031\n",
    "\n"
   ]
  },
  {
   "cell_type": "code",
   "execution_count": null,
   "metadata": {},
   "outputs": [],
   "source": [
    "012340\n",
    "123041\n",
    "230142\n",
    "3012430\n",
    "120341\n",
    "203142\n",
    "031240\n",
    "3120431\n",
    "201342\n",
    "013240\n",
    "132041\n",
    "320143201\n"
   ]
  },
  {
   "cell_type": "code",
   "execution_count": 162,
   "metadata": {},
   "outputs": [
    {
     "data": {
      "text/plain": [
       "'0,1,2,3,4,0,1,2,3,0,4,1,2,3,0,1,4,2,3,0,1,2,4,3,0,1,2,0,3,4,1,2,0,3,1,4,2,0,3,1,2,4,0,3,1,2,0,4,3,1,2,0,1,3,4,2,0,1,3,2,4,0,1,3,2,0,4,1,3,2,0,1,4,3,2,0,1'"
      ]
     },
     "execution_count": 162,
     "metadata": {},
     "output_type": "execute_result"
    }
   ],
   "source": [
    "\",\".join(e for e in \"01234012304123014230124301203412031420312403120431201342013240132041320143201\")"
   ]
  },
  {
   "cell_type": "code",
   "execution_count": 161,
   "metadata": {},
   "outputs": [
    {
     "name": "stdout",
     "output_type": "stream",
     "text": [
      "012340123\n",
      "123041230\n",
      "230142301\n",
      "301243012\n",
      "120341203\n",
      "203142031\n",
      "031240312\n",
      "312043120\n",
      "201342013\n",
      "013240132\n",
      "132041320\n",
      "320143201\n"
     ]
    }
   ],
   "source": [
    "a = \"\"\"\n",
    "0123\n",
    "1230\n",
    "2301\n",
    "3012\n",
    "\n",
    "1203\n",
    "2031\n",
    "0312\n",
    "3120\n",
    "\n",
    "2013\n",
    "0132\n",
    "1320\n",
    "3201\n",
    "\"\"\"\n",
    "\n",
    "for a_ in a.strip().split(\"\\n\"):\n",
    "    print(a_ + \"4\" + a_)"
   ]
  },
  {
   "cell_type": "code",
   "execution_count": 131,
   "metadata": {},
   "outputs": [
    {
     "data": {
      "text/plain": [
       "False"
      ]
     },
     "execution_count": 131,
     "metadata": {},
     "output_type": "execute_result"
    }
   ],
   "source": [
    "is_ok([2,1,0,3,4,2,1,0,3,2,1,0,4,3,2,1,0,2,3,4,1,0,2,3,1,0,2,4,3,1,0,2,1,3,4,0,2,1,3,0,2,1,4,3,0,2,1],5)"
   ]
  },
  {
   "cell_type": "code",
   "execution_count": 132,
   "metadata": {},
   "outputs": [
    {
     "data": {
      "text/plain": [
       "47"
      ]
     },
     "execution_count": 132,
     "metadata": {},
     "output_type": "execute_result"
    }
   ],
   "source": [
    "len([2,1,0,3,4,2,1,0,3,2,1,0,4,3,2,1,0,2,3,4,1,0,2,3,1,0,2,4,3,1,0,2,1,3,4,0,2,1,3,0,2,1,4,3,0,2,1])"
   ]
  },
  {
   "cell_type": "code",
   "execution_count": 166,
   "metadata": {},
   "outputs": [
    {
     "ename": "SyntaxError",
     "evalue": "unexpected EOF while parsing (<ipython-input-166-fc9d91767c6b>, line 14)",
     "output_type": "error",
     "traceback": [
      "\u001b[0;36m  File \u001b[0;32m\"<ipython-input-166-fc9d91767c6b>\"\u001b[0;36m, line \u001b[0;32m14\u001b[0m\n\u001b[0;31m    while len(p) <factorial(r) / 2:\u001b[0m\n\u001b[0m                                   ^\u001b[0m\n\u001b[0;31mSyntaxError\u001b[0m\u001b[0;31m:\u001b[0m unexpected EOF while parsing\n"
     ]
    }
   ],
   "source": [
    "@lru_cache\n",
    "def factorial(n):\n",
    "    if n == 0:\n",
    "        return 1\n",
    "    else:\n",
    "        return factorial(n - 1) * n\n",
    "\n",
    "\n",
    "def find_bi_super_perm(r):\n",
    "    if r == 1:\n",
    "        return '0'\n",
    "    s = \"\".join(str(i) for i in range(r - 1))\n",
    "    p = [s]\n",
    "    while len(p) < factorial(r) / 2:\n",
    "        t = s[1:] + s[0]\n",
    "        if t in p:\n",
    "            t = "
   ]
  },
  {
   "cell_type": "code",
   "execution_count": null,
   "metadata": {},
   "outputs": [],
   "source": [
    "https://oeis.org/A014288"
   ]
  }
 ],
 "metadata": {
  "kernelspec": {
   "display_name": "Python 3",
   "language": "python",
   "name": "python3"
  },
  "language_info": {
   "codemirror_mode": {
    "name": "ipython",
    "version": 3
   },
   "file_extension": ".py",
   "mimetype": "text/x-python",
   "name": "python",
   "nbconvert_exporter": "python",
   "pygments_lexer": "ipython3",
   "version": "3.7.7"
  }
 },
 "nbformat": 4,
 "nbformat_minor": 4
}
