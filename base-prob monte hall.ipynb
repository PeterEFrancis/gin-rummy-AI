{
 "cells": [
  {
   "cell_type": "raw",
   "metadata": {
    "jupyter": {
     "outputs_hidden": true
    }
   },
   "source": [
    "L       R       D\n",
    "2       1\n",
    "1       2\n",
    "1       1       1"
   ]
  },
  {
   "cell_type": "code",
   "execution_count": 2,
   "metadata": {},
   "outputs": [],
   "source": [
    "import random"
   ]
  },
  {
   "cell_type": "code",
   "execution_count": 51,
   "metadata": {},
   "outputs": [],
   "source": [
    "def run(v):\n",
    "    deck = [0,1,2]\n",
    "    random.shuffle(deck)\n",
    "    if v:\n",
    "        print(\"shuffled 'deck':\", deck)\n",
    "    L = deck[:2]\n",
    "    R = [deck[2]]\n",
    "    if v:\n",
    "        print(\"L:\", L, \"R:\", R)\n",
    "    L_choice = L.pop()\n",
    "    if v:\n",
    "        print(\"random L_choice:\", L_choice)\n",
    "    R.append(L_choice)\n",
    "    if v:\n",
    "        print(\"L:\", L, \"R:\", R)\n",
    "    i = random.choice([0,1])\n",
    "    R_choice = R[i]\n",
    "    if v:\n",
    "        print(\"initial R_choice:\", R_choice)\n",
    "    if R_choice == 0:\n",
    "        R_choice = R[1-i]\n",
    "        if v:\n",
    "            print(\"R_choice was 0\")\n",
    "            print(\"new R_choice:\", R_choice)\n",
    "    R.remove(R_choice)\n",
    "    if v:\n",
    "        print(\"0 in R:\", 0 in R)\n",
    "    return 0 in R"
   ]
  },
  {
   "cell_type": "code",
   "execution_count": 52,
   "metadata": {},
   "outputs": [
    {
     "name": "stdout",
     "output_type": "stream",
     "text": [
      "shuffled 'deck': [1, 2, 0]\n",
      "L: [1, 2] R: [0]\n",
      "random L_choice: 1\n",
      "L: [2] R: [0, 1]\n",
      "initial R_choice: 1\n",
      "0 in R: True\n"
     ]
    },
    {
     "data": {
      "text/plain": [
       "True"
      ]
     },
     "execution_count": 52,
     "metadata": {},
     "output_type": "execute_result"
    }
   ],
   "source": [
    "run(True)"
   ]
  },
  {
   "cell_type": "code",
   "execution_count": 53,
   "metadata": {},
   "outputs": [
    {
     "name": "stdout",
     "output_type": "stream",
     "text": [
      "0.666992\n"
     ]
    }
   ],
   "source": [
    "t = 1000000\n",
    "s = 0\n",
    "for i in range(t):\n",
    "    s += run(False)\n",
    "    \n",
    "print(s / t)"
   ]
  },
  {
   "cell_type": "markdown",
   "metadata": {},
   "source": [
    "01 2 -> 0 12 -> 0 1 2, 0 2 1      X X   (1/12) + (1/12)\n",
    "\n",
    "02 1 -> 0 21 -> 0 2 1, 0 1 2      X X   (1/12) + (1/12)\n",
    "\n",
    "10 2 -> 1 02 -> 1 0 2             V     (1/6)\n",
    "\n",
    "12 0 -> 1 20 -> 1 0 2             V     (1/6)\n",
    "\n",
    "20 1 -> 2 01 -> 2 0 1             V     (1/6)\n",
    "\n",
    "21 0 -> 2 10 -> 2 0 1             V     (1/6)"
   ]
  },
  {
   "cell_type": "code",
   "execution_count": 64,
   "metadata": {},
   "outputs": [],
   "source": [
    "def run_42(v):\n",
    "    deck = list(range(42))\n",
    "    random.shuffle(deck)\n",
    "    if v:\n",
    "        print(\"shuffled 'deck':\", deck)\n",
    "    R = deck[-10:]\n",
    "    L = deck[:-10]\n",
    "    if v:\n",
    "        print(\"L:\", L, \"\\nR:\", R)\n",
    "    L_choice = L.pop()\n",
    "    if v:\n",
    "        print(\"random L_choice:\", L_choice)\n",
    "    R.append(L_choice)\n",
    "    if v:\n",
    "        print(\"R:\", R)\n",
    "    i = random.choice(list(range(10)))\n",
    "    R_choice = R[i]\n",
    "    if v:\n",
    "        print(\"initial R_choice:\", R_choice)\n",
    "    while R_choice == 0:\n",
    "        R_choice = R[random.choice(list(range(10)))]\n",
    "        if v:\n",
    "            print(\"R_choice was 0\")\n",
    "            print(\"new R_choice:\", R_choice)\n",
    "    R.remove(R_choice)\n",
    "    if v:\n",
    "        print(\"0 in R:\", 0 in R)\n",
    "    return 0 in R"
   ]
  },
  {
   "cell_type": "code",
   "execution_count": 65,
   "metadata": {},
   "outputs": [
    {
     "name": "stdout",
     "output_type": "stream",
     "text": [
      "shuffled 'deck': [28, 22, 33, 31, 17, 23, 19, 26, 16, 35, 40, 32, 27, 20, 41, 11, 15, 7, 13, 18, 39, 30, 10, 8, 6, 25, 0, 29, 14, 9, 37, 38, 21, 4, 3, 5, 2, 1, 36, 12, 24, 34]\n",
      "L: [28, 22, 33, 31, 17, 23, 19, 26, 16, 35, 40, 32, 27, 20, 41, 11, 15, 7, 13, 18, 39, 30, 10, 8, 6, 25, 0, 29, 14, 9, 37, 38] \n",
      "R: [21, 4, 3, 5, 2, 1, 36, 12, 24, 34]\n",
      "random L_choice: 38\n",
      "R: [21, 4, 3, 5, 2, 1, 36, 12, 24, 34, 38]\n",
      "initial R_choice: 36\n",
      "0 in R: False\n"
     ]
    },
    {
     "data": {
      "text/plain": [
       "False"
      ]
     },
     "execution_count": 65,
     "metadata": {},
     "output_type": "execute_result"
    }
   ],
   "source": [
    "run_42(True)"
   ]
  },
  {
   "cell_type": "code",
   "execution_count": 70,
   "metadata": {},
   "outputs": [
    {
     "name": "stdout",
     "output_type": "stream",
     "text": [
      "0.261629\n"
     ]
    }
   ],
   "source": [
    "t = 1000000\n",
    "s = 0\n",
    "for i in range(t):\n",
    "    s += run_42(False)\n",
    "    \n",
    "print(s / t)"
   ]
  },
  {
   "cell_type": "code",
   "execution_count": 123,
   "metadata": {},
   "outputs": [
    {
     "data": {
      "text/plain": [
       "0.2619047619047619"
      ]
     },
     "execution_count": 123,
     "metadata": {},
     "output_type": "execute_result"
    }
   ],
   "source": [
    "11/42"
   ]
  },
  {
   "cell_type": "code",
   "execution_count": null,
   "metadata": {},
   "outputs": [],
   "source": []
  },
  {
   "cell_type": "code",
   "execution_count": null,
   "metadata": {},
   "outputs": [],
   "source": []
  },
  {
   "cell_type": "code",
   "execution_count": 135,
   "metadata": {},
   "outputs": [],
   "source": [
    "def run_40(v):\n",
    "    \n",
    "    # deal\n",
    "    deck = list(range(42))\n",
    "    random.shuffle(deck)\n",
    "    if v:\n",
    "        print(\"shuffled 'deck':\", deck)\n",
    "    R = deck[-10:]\n",
    "    L = deck[:-10]\n",
    "    if v:\n",
    "        print(\"\\tL:\", L, \"\\n\\tR:\", R)\n",
    "        \n",
    "    # opponent turn\n",
    "    L_choice = L.pop()\n",
    "    if v:\n",
    "        print(\"random L_choice:\", L_choice)\n",
    "    R.append(L_choice)\n",
    "    if v:\n",
    "        print(\"\\tL:\", L, \"\\n\\tR:\", R)\n",
    "    i = random.choice(list(range(10)))\n",
    "    R_choice = R[i]\n",
    "    if v:\n",
    "        print(\"initial R_choice:\", R_choice)\n",
    "    while R_choice == 0:\n",
    "        R_choice = R[random.choice(list(range(10)))]\n",
    "        if v:\n",
    "            print(\"R_choice was 0\")\n",
    "            print(\"new R_choice:\", R_choice)\n",
    "    R.remove(R_choice)\n",
    "    \n",
    "    \n",
    "    # our turn\n",
    "    # (can't pick 0)\n",
    "    i = 1\n",
    "    first = True\n",
    "    our_choice = 0\n",
    "    while first or our_choice == 0:\n",
    "        first = False\n",
    "        our_choice = L[-i]\n",
    "        i += 1\n",
    "    L.remove(our_choice)\n",
    "    if v:\n",
    "        print(\"our_choice:\", our_choice)\n",
    "        print(\"\\tL:\", L, \"\\n\\tR:\", R)\n",
    "    \n",
    "    # opponent turn again\n",
    "    L_choice = L.pop()\n",
    "    if v:\n",
    "        print(\"random L_choice:\", L_choice)\n",
    "    R.append(L_choice)\n",
    "    if v:\n",
    "        print(\"\\tL:\", L, \"\\n\\tR:\", R)\n",
    "    i = random.choice(list(range(10)))\n",
    "    R_choice = R[i]\n",
    "    if v:\n",
    "        print(\"initial R_choice:\", R_choice)\n",
    "    while R_choice == 0:\n",
    "        R_choice = R[random.choice(list(range(10)))]\n",
    "        if v:\n",
    "            print(\"R_choice was 0\")\n",
    "            print(\"new R_choice:\", R_choice)\n",
    "    R.remove(R_choice)\n",
    "    if v:\n",
    "        print(\"\\tL:\", L, \"\\n\\tR:\", R)\n",
    "    \n",
    "    if v:\n",
    "        print(\"0 in R:\", 0 in R)\n",
    "    return 0 in R"
   ]
  },
  {
   "cell_type": "code",
   "execution_count": 134,
   "metadata": {},
   "outputs": [
    {
     "name": "stdout",
     "output_type": "stream",
     "text": [
      "shuffled 'deck': [8, 15, 12, 24, 33, 25, 40, 32, 36, 39, 22, 9, 37, 10, 28, 29, 7, 27, 30, 13, 23, 2, 14, 26, 18, 4, 11, 35, 20, 16, 38, 0, 21, 19, 41, 17, 1, 3, 31, 5, 6, 34]\n",
      "\tL: [8, 15, 12, 24, 33, 25, 40, 32, 36, 39, 22, 9, 37, 10, 28, 29, 7, 27, 30, 13, 23, 2, 14, 26, 18, 4, 11, 35, 20, 16, 38, 0] \n",
      "\tR: [21, 19, 41, 17, 1, 3, 31, 5, 6, 34]\n",
      "random L_choice: 0\n",
      "\tL: [8, 15, 12, 24, 33, 25, 40, 32, 36, 39, 22, 9, 37, 10, 28, 29, 7, 27, 30, 13, 23, 2, 14, 26, 18, 4, 11, 35, 20, 16, 38] \n",
      "\tR: [21, 19, 41, 17, 1, 3, 31, 5, 6, 34, 0]\n",
      "initial R_choice: 41\n",
      "our_choice: 38\n",
      "\tL: [8, 15, 12, 24, 33, 25, 40, 32, 36, 39, 22, 9, 37, 10, 28, 29, 7, 27, 30, 13, 23, 2, 14, 26, 18, 4, 11, 35, 20, 16] \n",
      "\tR: [21, 19, 17, 1, 3, 31, 5, 6, 34, 0]\n",
      "random L_choice: 16\n",
      "\tL: [8, 15, 12, 24, 33, 25, 40, 32, 36, 39, 22, 9, 37, 10, 28, 29, 7, 27, 30, 13, 23, 2, 14, 26, 18, 4, 11, 35, 20] \n",
      "\tR: [21, 19, 17, 1, 3, 31, 5, 6, 34, 0, 16]\n",
      "initial R_choice: 0\n",
      "R_choice was 0\n",
      "new R_choice: 1\n",
      "\tL: [8, 15, 12, 24, 33, 25, 40, 32, 36, 39, 22, 9, 37, 10, 28, 29, 7, 27, 30, 13, 23, 2, 14, 26, 18, 4, 11, 35, 20] \n",
      "\tR: [21, 19, 17, 3, 31, 5, 6, 34, 0, 16]\n",
      "0 in R: True\n"
     ]
    },
    {
     "data": {
      "text/plain": [
       "True"
      ]
     },
     "execution_count": 134,
     "metadata": {},
     "output_type": "execute_result"
    }
   ],
   "source": [
    "run_(True)"
   ]
  },
  {
   "cell_type": "code",
   "execution_count": 136,
   "metadata": {},
   "outputs": [
    {
     "name": "stdout",
     "output_type": "stream",
     "text": [
      "0.30919\n"
     ]
    }
   ],
   "source": [
    "t = 1000000\n",
    "s = 0\n",
    "for i in range(t):\n",
    "    s += run_40(False)\n",
    "    \n",
    "print(s / t)"
   ]
  },
  {
   "cell_type": "code",
   "execution_count": 142,
   "metadata": {},
   "outputs": [
    {
     "data": {
      "text/plain": [
       "0.30952380952380953"
      ]
     },
     "execution_count": 142,
     "metadata": {},
     "output_type": "execute_result"
    }
   ],
   "source": [
    "13/42"
   ]
  },
  {
   "cell_type": "code",
   "execution_count": null,
   "metadata": {},
   "outputs": [],
   "source": []
  },
  {
   "cell_type": "code",
   "execution_count": 145,
   "metadata": {},
   "outputs": [],
   "source": [
    "def run_38(v):\n",
    "    \n",
    "    # deal\n",
    "    deck = list(range(42))\n",
    "    random.shuffle(deck)\n",
    "    if v:\n",
    "        print(\"shuffled 'deck':\", deck)\n",
    "    R = deck[-10:]\n",
    "    L = deck[:-10]\n",
    "    if v:\n",
    "        print(\"\\tL:\", L, \"\\n\\tR:\", R)\n",
    "        \n",
    "    # opponent turn\n",
    "    L_choice = L.pop()\n",
    "    if v:\n",
    "        print(\"random L_choice:\", L_choice)\n",
    "    R.append(L_choice)\n",
    "    if v:\n",
    "        print(\"\\tL:\", L, \"\\n\\tR:\", R)\n",
    "    i = random.choice(list(range(10)))\n",
    "    R_choice = R[i]\n",
    "    if v:\n",
    "        print(\"initial R_choice:\", R_choice)\n",
    "    while R_choice == 0:\n",
    "        R_choice = R[random.choice(list(range(10)))]\n",
    "        if v:\n",
    "            print(\"R_choice was 0\")\n",
    "            print(\"new R_choice:\", R_choice)\n",
    "    R.remove(R_choice)\n",
    "    \n",
    "    \n",
    "    # our turn\n",
    "    # (can't pick 0)\n",
    "    i = 1\n",
    "    first = True\n",
    "    our_choice = 0\n",
    "    while first or our_choice == 0:\n",
    "        first = False\n",
    "        our_choice = L[-i]\n",
    "        i += 1\n",
    "    L.remove(our_choice)\n",
    "    if v:\n",
    "        print(\"our_choice:\", our_choice)\n",
    "        print(\"\\tL:\", L, \"\\n\\tR:\", R)\n",
    "    \n",
    "    # opponent turn again\n",
    "    L_choice = L.pop()\n",
    "    if v:\n",
    "        print(\"random L_choice:\", L_choice)\n",
    "    R.append(L_choice)\n",
    "    if v:\n",
    "        print(\"\\tL:\", L, \"\\n\\tR:\", R)\n",
    "    i = random.choice(list(range(10)))\n",
    "    R_choice = R[i]\n",
    "    if v:\n",
    "        print(\"initial R_choice:\", R_choice)\n",
    "    while R_choice == 0:\n",
    "        R_choice = R[random.choice(list(range(10)))]\n",
    "        if v:\n",
    "            print(\"R_choice was 0\")\n",
    "            print(\"new R_choice:\", R_choice)\n",
    "    R.remove(R_choice)\n",
    "    if v:\n",
    "        print(\"\\tL:\", L, \"\\n\\tR:\", R)\n",
    "    \n",
    "    \n",
    "    # our turn\n",
    "    # (can't pick 0)\n",
    "    i = 1\n",
    "    first = True\n",
    "    our_choice = 0\n",
    "    while first or our_choice == 0:\n",
    "        first = False\n",
    "        our_choice = L[-i]\n",
    "        i += 1\n",
    "    L.remove(our_choice)\n",
    "    if v:\n",
    "        print(\"our_choice:\", our_choice)\n",
    "        print(\"\\tL:\", L, \"\\n\\tR:\", R)\n",
    "    \n",
    "    # opponent turn again\n",
    "    L_choice = L.pop()\n",
    "    if v:\n",
    "        print(\"random L_choice:\", L_choice)\n",
    "    R.append(L_choice)\n",
    "    if v:\n",
    "        print(\"\\tL:\", L, \"\\n\\tR:\", R)\n",
    "    i = random.choice(list(range(10)))\n",
    "    R_choice = R[i]\n",
    "    if v:\n",
    "        print(\"initial R_choice:\", R_choice)\n",
    "    while R_choice == 0:\n",
    "        R_choice = R[random.choice(list(range(10)))]\n",
    "        if v:\n",
    "            print(\"R_choice was 0\")\n",
    "            print(\"new R_choice:\", R_choice)\n",
    "    R.remove(R_choice)\n",
    "    if v:\n",
    "        print(\"\\tL:\", L, \"\\n\\tR:\", R)\n",
    "    \n",
    "    \n",
    "    \n",
    "    if v:\n",
    "        print(\"0 in R:\", 0 in R)\n",
    "    return 0 in R"
   ]
  },
  {
   "cell_type": "code",
   "execution_count": 147,
   "metadata": {},
   "outputs": [
    {
     "name": "stdout",
     "output_type": "stream",
     "text": [
      "0.35706\n"
     ]
    }
   ],
   "source": [
    "t = 1000000\n",
    "s = 0\n",
    "for i in range(t):\n",
    "    s += run_38(False)\n",
    "    \n",
    "print(s / t)"
   ]
  },
  {
   "cell_type": "code",
   "execution_count": 148,
   "metadata": {},
   "outputs": [
    {
     "data": {
      "text/plain": [
       "0.35714285714285715"
      ]
     },
     "execution_count": 148,
     "metadata": {},
     "output_type": "execute_result"
    }
   ],
   "source": [
    "15/42"
   ]
  },
  {
   "cell_type": "code",
   "execution_count": null,
   "metadata": {},
   "outputs": [],
   "source": []
  },
  {
   "cell_type": "code",
   "execution_count": null,
   "metadata": {},
   "outputs": [],
   "source": []
  },
  {
   "cell_type": "code",
   "execution_count": 1,
   "metadata": {},
   "outputs": [
    {
     "data": {
      "text/plain": [
       "0.23809523809523808"
      ]
     },
     "execution_count": 1,
     "metadata": {},
     "output_type": "execute_result"
    }
   ],
   "source": [
    "10/42"
   ]
  },
  {
   "cell_type": "code",
   "execution_count": 152,
   "metadata": {},
   "outputs": [
    {
     "name": "stdout",
     "output_type": "stream",
     "text": [
      "1 0.2619047619047619\n",
      "3 0.30952380952380953\n",
      "5 0.35714285714285715\n",
      "7 0.40476190476190477\n",
      "9 0.4523809523809524\n",
      "11 0.5\n",
      "13 0.5476190476190477\n",
      "15 0.5952380952380952\n",
      "17 0.6428571428571429\n",
      "19 0.6904761904761905\n",
      "21 0.7380952380952381\n",
      "23 0.7857142857142857\n",
      "25 0.8333333333333334\n",
      "27 0.8809523809523809\n",
      "29 0.9285714285714286\n",
      "31 0.9761904761904762\n"
     ]
    }
   ],
   "source": [
    "for i in range(11, 42, 2):\n",
    "    print(i - 10, i/42)"
   ]
  },
  {
   "cell_type": "code",
   "execution_count": null,
   "metadata": {},
   "outputs": [],
   "source": []
  },
  {
   "cell_type": "code",
   "execution_count": null,
   "metadata": {},
   "outputs": [],
   "source": []
  },
  {
   "cell_type": "code",
   "execution_count": null,
   "metadata": {},
   "outputs": [],
   "source": []
  },
  {
   "cell_type": "code",
   "execution_count": null,
   "metadata": {},
   "outputs": [],
   "source": []
  },
  {
   "cell_type": "code",
   "execution_count": null,
   "metadata": {},
   "outputs": [],
   "source": []
  },
  {
   "cell_type": "code",
   "execution_count": null,
   "metadata": {},
   "outputs": [],
   "source": []
  },
  {
   "cell_type": "code",
   "execution_count": null,
   "metadata": {},
   "outputs": [],
   "source": []
  },
  {
   "cell_type": "code",
   "execution_count": 94,
   "metadata": {},
   "outputs": [
    {
     "data": {
      "text/plain": [
       "'onemilliontwohundredandthirtyfourthousandfivehundredandsixtyseven'"
      ]
     },
     "execution_count": 94,
     "metadata": {},
     "output_type": "execute_result"
    }
   ],
   "source": [
    "import inflect\n",
    "p = inflect.engine()\n",
    "p.number_to_words(1234567).replace(\",\",\"\").replace(\" \", \"\").replace(\"-\", \"\")"
   ]
  },
  {
   "cell_type": "code",
   "execution_count": 106,
   "metadata": {},
   "outputs": [],
   "source": [
    "def base26LetterToBase10(string):\n",
    "    string = string.lower()\n",
    "    if string == \" \" or len(string) == 0:\n",
    "        return 0\n",
    "    if len(string) == 1:\n",
    "        return ord(string)-96\n",
    "    else:\n",
    "        return base26LetterToBase10(string[1:])+(26**(len(string)-1))*(ord(string[0])-96)"
   ]
  },
  {
   "cell_type": "code",
   "execution_count": null,
   "metadata": {},
   "outputs": [],
   "source": []
  }
 ],
 "metadata": {
  "kernelspec": {
   "display_name": "Python 3",
   "language": "python",
   "name": "python3"
  },
  "language_info": {
   "codemirror_mode": {
    "name": "ipython",
    "version": 3
   },
   "file_extension": ".py",
   "mimetype": "text/x-python",
   "name": "python",
   "nbconvert_exporter": "python",
   "pygments_lexer": "ipython3",
   "version": "3.7.7"
  }
 },
 "nbformat": 4,
 "nbformat_minor": 4
}
