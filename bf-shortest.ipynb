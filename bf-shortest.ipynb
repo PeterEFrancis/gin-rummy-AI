{
 "cells": [
  {
   "cell_type": "code",
   "execution_count": 82,
   "metadata": {},
   "outputs": [],
   "source": [
    "import itertools as it\n",
    "from functools import lru_cache\n",
    "import random"
   ]
  },
  {
   "cell_type": "code",
   "execution_count": 108,
   "metadata": {},
   "outputs": [
    {
     "name": "stdout",
     "output_type": "stream",
     "text": [
      "[0, 1, 2, 3, 0, 1, 3, 2, 0, 2, 1, 3, 0, 2, 3, 1, 0, 3, 1, 2, 0, 3, 2, 1, 1, 0, 2, 3, 1, 0, 3, 2, 1, 2, 0, 3, 1, 3, 0, 2, 2, 0, 1, 3, 2, 1, 0, 3]\n"
     ]
    }
   ],
   "source": [
    "perms = []\n",
    "for c in it.permutations(range(4), 4):\n",
    "    if c[::-1] not in perms:\n",
    "        perms.append(c)\n",
    "\n",
    "print(\"[\" + \", \".join(str(el)[1:-1] for el in perms) + \"]\")\n",
    "\n",
    "def is_a_sublist(tup1, tup2):\n",
    "    for offset in range(len(tup2) - len(tup1) + 1):       \n",
    "        is_sublist = True\n",
    "        for i in range(len(tup1)):\n",
    "            if tup1[i] != tup2[i + offset]:\n",
    "                is_sublist = False\n",
    "                break\n",
    "        if is_sublist:\n",
    "            return True\n",
    "    return False\n",
    "\n",
    "\n",
    "def is_ok(a):\n",
    "    for perm in perms:\n",
    "        if (not is_a_sublist(perm, a)) and (not is_a_sublist(perm[::-1], a)):\n",
    "            return False\n",
    "    return True"
   ]
  },
  {
   "cell_type": "code",
   "execution_count": 109,
   "metadata": {},
   "outputs": [
    {
     "data": {
      "text/plain": [
       "48"
      ]
     },
     "execution_count": 109,
     "metadata": {},
     "output_type": "execute_result"
    }
   ],
   "source": [
    "a = [0, 1, 2, 3, 0, 1, 3, 2, 0, 2, 1, 3, 0, 2, 3, 1, 0, 3, 1, 2, 0, 3, 2, 1, 1, 0, 2, 3, 1, 0, 3, 2, 1, 2, 0, 3, 1, 3, 0, 2, 2, 0, 1, 3, 2, 1, 0, 3]\n",
    "len(a)"
   ]
  },
  {
   "cell_type": "code",
   "execution_count": 123,
   "metadata": {},
   "outputs": [
    {
     "name": "stdout",
     "output_type": "stream",
     "text": [
      "[0, 1, 2, 3, 0, 1, 3, 2, 0, 3, 0, 1, 1, 2, 0, 3, 1, 0, 2, 3, 2, 0, 1, 3, 2, 1, 0, 3]\n",
      "28\n"
     ]
    }
   ],
   "source": [
    "t = 2\n",
    "min_arr = a.copy()\n",
    "for z in range(1000):\n",
    "    b = a.copy()\n",
    "    for y in range(400):\n",
    "        i = random.randint(0, len(b) - t)\n",
    "        sub = b[i:i+t]\n",
    "        for offset in filter(lambda x: x != i , range(len(b) - t)):\n",
    "            if b[offset] == sub[0]:\n",
    "                subset = True\n",
    "                for k in range(t):\n",
    "                    if b[offset + k] != sub[k]:\n",
    "                        subset = False\n",
    "                        break\n",
    "                if subset:\n",
    "                    c = b.copy()\n",
    "                    for l in range(t):\n",
    "                        del b[i]\n",
    "                    if is_ok(c):\n",
    "                        break\n",
    "                    else:\n",
    "                        b = c\n",
    "            \n",
    "    if len(b) < len(min_arr):\n",
    "        min_arr = b\n",
    "print(min_arr)\n",
    "print(len(min_arr))"
   ]
  },
  {
   "cell_type": "code",
   "execution_count": null,
   "metadata": {},
   "outputs": [],
   "source": []
  }
 ],
 "metadata": {
  "kernelspec": {
   "display_name": "Python 3",
   "language": "python",
   "name": "python3"
  },
  "language_info": {
   "codemirror_mode": {
    "name": "ipython",
    "version": 3
   },
   "file_extension": ".py",
   "mimetype": "text/x-python",
   "name": "python",
   "nbconvert_exporter": "python",
   "pygments_lexer": "ipython3",
   "version": "3.7.7"
  }
 },
 "nbformat": 4,
 "nbformat_minor": 4
}
